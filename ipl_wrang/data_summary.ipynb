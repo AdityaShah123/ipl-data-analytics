{
 "cells": [
  {
   "cell_type": "code",
   "execution_count": 1,
   "metadata": {},
   "outputs": [
    {
     "name": "stdout",
     "output_type": "stream",
     "text": [
      "🗂️ Dataset Shape: (1095, 20)\n",
      "\n",
      "🧠 Column Info:\n",
      "id                   int64\n",
      "season              object\n",
      "city                object\n",
      "date                object\n",
      "match_type          object\n",
      "player_of_match     object\n",
      "venue               object\n",
      "team1               object\n",
      "team2               object\n",
      "toss_winner         object\n",
      "toss_decision       object\n",
      "winner              object\n",
      "result              object\n",
      "result_margin      float64\n",
      "target_runs        float64\n",
      "target_overs       float64\n",
      "super_over          object\n",
      "method              object\n",
      "umpire1             object\n",
      "umpire2             object\n",
      "dtype: object\n",
      "\n",
      "🧹 Missing Values:\n",
      "id                    0\n",
      "season                0\n",
      "city                 51\n",
      "date                  0\n",
      "match_type            0\n",
      "player_of_match       5\n",
      "venue                 0\n",
      "team1                 0\n",
      "team2                 0\n",
      "toss_winner           0\n",
      "toss_decision         0\n",
      "winner                5\n",
      "result                0\n",
      "result_margin        19\n",
      "target_runs           3\n",
      "target_overs          3\n",
      "super_over            0\n",
      "method             1074\n",
      "umpire1               0\n",
      "umpire2               0\n",
      "dtype: int64\n",
      "\n",
      "🔍 Unique Value Counts:\n",
      "id: 1095 unique values\n",
      "season: 17 unique values\n",
      "city: 36 unique values\n",
      "date: 823 unique values\n",
      "match_type: 8 unique values\n",
      "player_of_match: 291 unique values\n",
      "venue: 58 unique values\n",
      "team1: 19 unique values\n",
      "team2: 19 unique values\n",
      "toss_winner: 19 unique values\n",
      "toss_decision: 2 unique values\n",
      "winner: 19 unique values\n",
      "result: 4 unique values\n",
      "result_margin: 98 unique values\n",
      "target_runs: 170 unique values\n",
      "target_overs: 15 unique values\n",
      "super_over: 2 unique values\n",
      "method: 1 unique values\n",
      "umpire1: 62 unique values\n",
      "umpire2: 62 unique values\n",
      "\n",
      "📊 Descriptive Statistics (Numerical Columns):\n",
      "                 id  result_margin  target_runs  target_overs\n",
      "count  1.095000e+03    1076.000000  1092.000000   1092.000000\n",
      "mean   9.048283e+05      17.259294   165.684066     19.759341\n",
      "std    3.677402e+05      21.787444    33.427048      1.581108\n",
      "min    3.359820e+05       1.000000    43.000000      5.000000\n",
      "25%    5.483315e+05       6.000000   146.000000     20.000000\n",
      "50%    9.809610e+05       8.000000   166.000000     20.000000\n",
      "75%    1.254062e+06      20.000000   187.000000     20.000000\n",
      "max    1.426312e+06     146.000000   288.000000     20.000000\n",
      "\n",
      "🔎 First 5 Rows:\n",
      "       id   season        city        date match_type player_of_match  \\\n",
      "0  335982  2007/08   Bangalore  2008-04-18     League     BB McCullum   \n",
      "1  335983  2007/08  Chandigarh  2008-04-19     League      MEK Hussey   \n",
      "2  335984  2007/08       Delhi  2008-04-19     League     MF Maharoof   \n",
      "3  335985  2007/08      Mumbai  2008-04-20     League      MV Boucher   \n",
      "4  335986  2007/08     Kolkata  2008-04-20     League       DJ Hussey   \n",
      "\n",
      "                                        venue                        team1  \\\n",
      "0                       M Chinnaswamy Stadium  Royal Challengers Bangalore   \n",
      "1  Punjab Cricket Association Stadium, Mohali              Kings XI Punjab   \n",
      "2                            Feroz Shah Kotla             Delhi Daredevils   \n",
      "3                            Wankhede Stadium               Mumbai Indians   \n",
      "4                                Eden Gardens        Kolkata Knight Riders   \n",
      "\n",
      "                         team2                  toss_winner toss_decision  \\\n",
      "0        Kolkata Knight Riders  Royal Challengers Bangalore         field   \n",
      "1          Chennai Super Kings          Chennai Super Kings           bat   \n",
      "2             Rajasthan Royals             Rajasthan Royals           bat   \n",
      "3  Royal Challengers Bangalore               Mumbai Indians           bat   \n",
      "4              Deccan Chargers              Deccan Chargers           bat   \n",
      "\n",
      "                        winner   result  result_margin  target_runs  \\\n",
      "0        Kolkata Knight Riders     runs          140.0        223.0   \n",
      "1          Chennai Super Kings     runs           33.0        241.0   \n",
      "2             Delhi Daredevils  wickets            9.0        130.0   \n",
      "3  Royal Challengers Bangalore  wickets            5.0        166.0   \n",
      "4        Kolkata Knight Riders  wickets            5.0        111.0   \n",
      "\n",
      "   target_overs super_over method    umpire1         umpire2  \n",
      "0          20.0          N    NaN  Asad Rauf     RE Koertzen  \n",
      "1          20.0          N    NaN  MR Benson      SL Shastri  \n",
      "2          20.0          N    NaN  Aleem Dar  GA Pratapkumar  \n",
      "3          20.0          N    NaN   SJ Davis       DJ Harper  \n",
      "4          20.0          N    NaN  BF Bowden     K Hariharan  \n"
     ]
    }
   ],
   "source": [
    "import pandas as pd\n",
    "\n",
    "# Load the dataset\n",
    "matches = pd.read_csv('/Users/Manan/Desktop/data_wranf_submission_folder/project-group-11/ipl_wrang/data/matches.csv')  # change to your actual path\n",
    "\n",
    "# 1. Basic info\n",
    "print(\"🗂️ Dataset Shape:\", matches.shape)\n",
    "print(\"\\n🧠 Column Info:\")\n",
    "print(matches.dtypes)\n",
    "\n",
    "# 2. Missing values\n",
    "print(\"\\n🧹 Missing Values:\")\n",
    "print(matches.isnull().sum())\n",
    "\n",
    "# 3. Unique values per column\n",
    "print(\"\\n🔍 Unique Value Counts:\")\n",
    "for col in matches.columns:\n",
    "    unique_vals = matches[col].nunique()\n",
    "    print(f\"{col}: {unique_vals} unique values\")\n",
    "\n",
    "# 4. Descriptive statistics\n",
    "print(\"\\n📊 Descriptive Statistics (Numerical Columns):\")\n",
    "print(matches.describe())\n",
    "\n",
    "# 5. Sample entries\n",
    "print(\"\\n🔎 First 5 Rows:\")\n",
    "print(matches.head())\n"
   ]
  },
  {
   "cell_type": "code",
   "execution_count": 5,
   "metadata": {},
   "outputs": [
    {
     "name": "stdout",
     "output_type": "stream",
     "text": [
      "season\n",
      "2007/08    58\n",
      "2009       57\n",
      "2009/10    60\n",
      "2011       73\n",
      "2012       74\n",
      "2013       76\n",
      "2014       60\n",
      "2015       59\n",
      "2016       60\n",
      "2017       59\n",
      "2018       60\n",
      "2019       60\n",
      "2020/21    60\n",
      "2021       60\n",
      "2022       74\n",
      "2023       74\n",
      "2024       71\n",
      "Name: count, dtype: int64\n"
     ]
    }
   ],
   "source": [
    "print(matches['season'].value_counts().sort_index())\n"
   ]
  },
  {
   "cell_type": "code",
   "execution_count": 6,
   "metadata": {},
   "outputs": [
    {
     "name": "stdout",
     "output_type": "stream",
     "text": [
      "Unique matches based on team1+team2+date: 1095\n"
     ]
    }
   ],
   "source": [
    "print(\"Unique matches based on team1+team2+date:\",\n",
    "      matches[['team1', 'team2', 'date']].drop_duplicates().shape[0])\n"
   ]
  },
  {
   "cell_type": "code",
   "execution_count": 7,
   "metadata": {},
   "outputs": [
    {
     "name": "stdout",
     "output_type": "stream",
     "text": [
      "                 id  result_margin  target_runs  target_overs\n",
      "count  1.095000e+03    1076.000000  1092.000000   1092.000000\n",
      "mean   9.048283e+05      17.259294   165.684066     19.759341\n",
      "std    3.677402e+05      21.787444    33.427048      1.581108\n",
      "min    3.359820e+05       1.000000    43.000000      5.000000\n",
      "25%    5.483315e+05       6.000000   146.000000     20.000000\n",
      "50%    9.809610e+05       8.000000   166.000000     20.000000\n",
      "75%    1.254062e+06      20.000000   187.000000     20.000000\n",
      "max    1.426312e+06     146.000000   288.000000     20.000000\n"
     ]
    }
   ],
   "source": [
    "print(matches.describe())"
   ]
  },
  {
   "cell_type": "code",
   "execution_count": null,
   "metadata": {},
   "outputs": [],
   "source": []
  }
 ],
 "metadata": {
  "kernelspec": {
   "display_name": "Python 3",
   "language": "python",
   "name": "python3"
  },
  "language_info": {
   "codemirror_mode": {
    "name": "ipython",
    "version": 3
   },
   "file_extension": ".py",
   "mimetype": "text/x-python",
   "name": "python",
   "nbconvert_exporter": "python",
   "pygments_lexer": "ipython3",
   "version": "3.12.7"
  }
 },
 "nbformat": 4,
 "nbformat_minor": 2
}
